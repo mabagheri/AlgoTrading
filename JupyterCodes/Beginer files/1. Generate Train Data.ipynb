{
 "cells": [
  {
   "cell_type": "code",
   "execution_count": 2,
   "metadata": {},
   "outputs": [],
   "source": [
    "import numpy as np\n",
    "import pandas as pd\n",
    "import datetime\n",
    "import os"
   ]
  },
  {
   "cell_type": "code",
   "execution_count": 5,
   "metadata": {},
   "outputs": [],
   "source": [
    "folder = 'data'\n",
    "ext = '.csv'\n",
    "def get_list_of_files(directory, extension):\n",
    "    list_of_files = []\n",
    "    for root, dirs, files in os.walk(directory):\n",
    "        list_of_files = [os.path.join(root, x) for x in files if x.endswith(extension)]\n",
    "    return list_of_files\n",
    "list_of_data_files = get_list_of_files(folder, ext)"
   ]
  },
  {
   "cell_type": "code",
   "execution_count": 7,
   "metadata": {},
   "outputs": [
    {
     "name": "stdout",
     "output_type": "stream",
     "text": [
      "(252, 7)\n",
      "(203, 50, 7)\n"
     ]
    }
   ],
   "source": [
    "def generate_train_target_sets(time_series, n_timesteps):\n",
    "    l = time_series.shape[0]\n",
    "    X = [time_series[i:i+n_timesteps, :] for i in range(l - n_timesteps +1)]\n",
    "    print(np.array(X).shape)\n",
    "    \n",
    "for f in list_of_data_files[:1]:\n",
    "    data = pd.read_csv(f).values\n",
    "    data = add_features(data, )\n",
    "    print(data.shape)\n",
    "    generate_train_target_sets(data, 50)\n"
   ]
  },
  {
   "cell_type": "code",
   "execution_count": 92,
   "metadata": {},
   "outputs": [
    {
     "data": {
      "text/plain": [
       "1      0.000000\n",
       "2      0.000000\n",
       "3      0.000000\n",
       "4     80.987478\n",
       "5     83.541066\n",
       "        ...    \n",
       "93    19.838140\n",
       "94     8.060160\n",
       "95     6.803127\n",
       "96     4.115033\n",
       "97    58.679813\n",
       "Name: Adj Close, Length: 97, dtype: float64"
      ]
     },
     "execution_count": 92,
     "metadata": {},
     "output_type": "execute_result"
    }
   ],
   "source": [
    "def calc_RSI(close_values, based_on='EMA', window_length=14):\n",
    "    # Get the difference in price from previous step\n",
    "    delta = close_values.diff()\n",
    "    # Get rid of the first row, which is NaN since it did not have a previous \n",
    "    # row to calculate the differences\n",
    "    delta = delta[1:] \n",
    "\n",
    "    # Make the positive gains (up) and negative gains (down) Series\n",
    "    up, down = delta.copy(), delta.copy()\n",
    "    up[up < 0] = 0\n",
    "    down[down > 0] = 0\n",
    "\n",
    "    # Calculate the EWMA\n",
    "    roll_up1 = up.ewm(span=window_length).mean()\n",
    "    roll_down1 = down.abs().ewm(span=window_length).mean()\n",
    "\n",
    "    # Calculate the RSI based on EWMA\n",
    "    RS1 = roll_up1 / roll_down1\n",
    "    RSI1 = 100.0 - (100.0 / (1.0 + RS1))\n",
    "\n",
    "    # Calculate the SMA\n",
    "    roll_up2 = up.rolling(window_length).mean()\n",
    "    roll_down2 = down.abs().rolling(window_length).mean()\n",
    "\n",
    "    # Calculate the RSI based on SMA\n",
    "    RS2 = roll_up2 / roll_down2\n",
    "    RSI2 = 100.0 - (100.0 / (1.0 + RS2))\n",
    "    \n",
    "    return RSI1\n",
    "\n",
    "calc_RSI(df['Adj Close'], based_on='EMA')"
   ]
  },
  {
   "cell_type": "code",
   "execution_count": 100,
   "metadata": {},
   "outputs": [
    {
     "data": {
      "text/plain": [
       "array([-0.03999996, -0.26000023, -0.17000008,  0.86999989,  0.10000038,\n",
       "        0.        , -0.05000019, -0.05999947, -0.42000008, -0.13000011,\n",
       "        0.56999969, -0.19999981, -0.14000034, -0.29999924, -0.07000065,\n",
       "        0.4800005 , -0.19000053,  0.46000004,  1.        , -0.09999943,\n",
       "       -0.10000038, -0.61999989,  0.40999985, -0.03999996,  0.22000027,\n",
       "        1.15999985,  1.94999981,  0.84000015, -0.67000008,  1.96000004,\n",
       "       -1.38000011,  1.22000027,  0.13000011,  1.92000008,  0.04999924,\n",
       "        1.07999992, -0.82999992,  2.8900013 ,  2.77999878,  5.22999954,\n",
       "       -1.38999939, -0.54999924, -1.44000053, -3.15999985,  1.52000046,\n",
       "       -0.18000031,  5.09000015, -0.35000038, -1.96000099,  0.41000175,\n",
       "        0.15999985,  0.03999901, -0.80999947, -0.51000023,  1.30999947,\n",
       "       -1.26000023,  2.54000092, -0.46999931,  0.64999962, -0.94000053,\n",
       "       -2.12000084, -0.96999931,  0.44000053, -1.55000114, -0.1799984 ,\n",
       "        1.22999954, -1.05999947,  1.45999908,  0.20000076,  0.72999954,\n",
       "        0.25      , -0.68000031, -0.57999992,  0.71999931,  0.98000145,\n",
       "       -0.28000069, -0.36000061,  6.60000229,  3.64999771, -0.86000061,\n",
       "        3.63000107, -3.34000015, -0.47999954, -1.22000122, -2.93999863,\n",
       "        0.73999977,  0.28999901,  2.        ,  2.        ,  2.11999893,\n",
       "       -2.46999741, -2.59000015, -1.20000076, -4.06999969, -0.76000023,\n",
       "       -1.90999985,  3.82999992])"
      ]
     },
     "execution_count": 100,
     "metadata": {},
     "output_type": "execute_result"
    }
   ],
   "source": [
    "df['Close'].diff()[1:].values"
   ]
  },
  {
   "cell_type": "code",
   "execution_count": 93,
   "metadata": {},
   "outputs": [
    {
     "ename": "IndexingError",
     "evalue": "Too many indexers",
     "output_type": "error",
     "traceback": [
      "\u001b[1;31m---------------------------------------------------------------------------\u001b[0m",
      "\u001b[1;31mIndexingError\u001b[0m                             Traceback (most recent call last)",
      "\u001b[1;32m<ipython-input-93-cda225942fbf>\u001b[0m in \u001b[0;36m<module>\u001b[1;34m\u001b[0m\n\u001b[0;32m      2\u001b[0m \u001b[1;33m\u001b[0m\u001b[0m\n\u001b[0;32m      3\u001b[0m df['Change_percent'] = np.concatenate((np.array([np.nan]), \n\u001b[1;32m----> 4\u001b[1;33m                                 ((df['Close'].diff().iloc[1:, :].values)/(df['Close'].iloc[:-1, :].values)).reshape(-1)))*100\n\u001b[0m\u001b[0;32m      5\u001b[0m \u001b[0mdf\u001b[0m\u001b[1;33m\u001b[0m\u001b[1;33m\u001b[0m\u001b[0m\n",
      "\u001b[1;32m~\\AppData\\Local\\Continuum\\anaconda3\\lib\\site-packages\\pandas\\core\\indexing.py\u001b[0m in \u001b[0;36m__getitem__\u001b[1;34m(self, key)\u001b[0m\n\u001b[0;32m   1416\u001b[0m                 \u001b[1;32mexcept\u001b[0m \u001b[1;33m(\u001b[0m\u001b[0mKeyError\u001b[0m\u001b[1;33m,\u001b[0m \u001b[0mIndexError\u001b[0m\u001b[1;33m,\u001b[0m \u001b[0mAttributeError\u001b[0m\u001b[1;33m)\u001b[0m\u001b[1;33m:\u001b[0m\u001b[1;33m\u001b[0m\u001b[1;33m\u001b[0m\u001b[0m\n\u001b[0;32m   1417\u001b[0m                     \u001b[1;32mpass\u001b[0m\u001b[1;33m\u001b[0m\u001b[1;33m\u001b[0m\u001b[0m\n\u001b[1;32m-> 1418\u001b[1;33m             \u001b[1;32mreturn\u001b[0m \u001b[0mself\u001b[0m\u001b[1;33m.\u001b[0m\u001b[0m_getitem_tuple\u001b[0m\u001b[1;33m(\u001b[0m\u001b[0mkey\u001b[0m\u001b[1;33m)\u001b[0m\u001b[1;33m\u001b[0m\u001b[1;33m\u001b[0m\u001b[0m\n\u001b[0m\u001b[0;32m   1419\u001b[0m         \u001b[1;32melse\u001b[0m\u001b[1;33m:\u001b[0m\u001b[1;33m\u001b[0m\u001b[1;33m\u001b[0m\u001b[0m\n\u001b[0;32m   1420\u001b[0m             \u001b[1;31m# we by definition only have the 0th axis\u001b[0m\u001b[1;33m\u001b[0m\u001b[1;33m\u001b[0m\u001b[1;33m\u001b[0m\u001b[0m\n",
      "\u001b[1;32m~\\AppData\\Local\\Continuum\\anaconda3\\lib\\site-packages\\pandas\\core\\indexing.py\u001b[0m in \u001b[0;36m_getitem_tuple\u001b[1;34m(self, tup)\u001b[0m\n\u001b[0;32m   2090\u001b[0m     \u001b[1;32mdef\u001b[0m \u001b[0m_getitem_tuple\u001b[0m\u001b[1;33m(\u001b[0m\u001b[0mself\u001b[0m\u001b[1;33m,\u001b[0m \u001b[0mtup\u001b[0m\u001b[1;33m)\u001b[0m\u001b[1;33m:\u001b[0m\u001b[1;33m\u001b[0m\u001b[1;33m\u001b[0m\u001b[0m\n\u001b[0;32m   2091\u001b[0m \u001b[1;33m\u001b[0m\u001b[0m\n\u001b[1;32m-> 2092\u001b[1;33m         \u001b[0mself\u001b[0m\u001b[1;33m.\u001b[0m\u001b[0m_has_valid_tuple\u001b[0m\u001b[1;33m(\u001b[0m\u001b[0mtup\u001b[0m\u001b[1;33m)\u001b[0m\u001b[1;33m\u001b[0m\u001b[1;33m\u001b[0m\u001b[0m\n\u001b[0m\u001b[0;32m   2093\u001b[0m         \u001b[1;32mtry\u001b[0m\u001b[1;33m:\u001b[0m\u001b[1;33m\u001b[0m\u001b[1;33m\u001b[0m\u001b[0m\n\u001b[0;32m   2094\u001b[0m             \u001b[1;32mreturn\u001b[0m \u001b[0mself\u001b[0m\u001b[1;33m.\u001b[0m\u001b[0m_getitem_lowerdim\u001b[0m\u001b[1;33m(\u001b[0m\u001b[0mtup\u001b[0m\u001b[1;33m)\u001b[0m\u001b[1;33m\u001b[0m\u001b[1;33m\u001b[0m\u001b[0m\n",
      "\u001b[1;32m~\\AppData\\Local\\Continuum\\anaconda3\\lib\\site-packages\\pandas\\core\\indexing.py\u001b[0m in \u001b[0;36m_has_valid_tuple\u001b[1;34m(self, key)\u001b[0m\n\u001b[0;32m    231\u001b[0m         \u001b[1;32mfor\u001b[0m \u001b[0mi\u001b[0m\u001b[1;33m,\u001b[0m \u001b[0mk\u001b[0m \u001b[1;32min\u001b[0m \u001b[0menumerate\u001b[0m\u001b[1;33m(\u001b[0m\u001b[0mkey\u001b[0m\u001b[1;33m)\u001b[0m\u001b[1;33m:\u001b[0m\u001b[1;33m\u001b[0m\u001b[1;33m\u001b[0m\u001b[0m\n\u001b[0;32m    232\u001b[0m             \u001b[1;32mif\u001b[0m \u001b[0mi\u001b[0m \u001b[1;33m>=\u001b[0m \u001b[0mself\u001b[0m\u001b[1;33m.\u001b[0m\u001b[0mobj\u001b[0m\u001b[1;33m.\u001b[0m\u001b[0mndim\u001b[0m\u001b[1;33m:\u001b[0m\u001b[1;33m\u001b[0m\u001b[1;33m\u001b[0m\u001b[0m\n\u001b[1;32m--> 233\u001b[1;33m                 \u001b[1;32mraise\u001b[0m \u001b[0mIndexingError\u001b[0m\u001b[1;33m(\u001b[0m\u001b[1;34m\"Too many indexers\"\u001b[0m\u001b[1;33m)\u001b[0m\u001b[1;33m\u001b[0m\u001b[1;33m\u001b[0m\u001b[0m\n\u001b[0m\u001b[0;32m    234\u001b[0m             \u001b[1;32mtry\u001b[0m\u001b[1;33m:\u001b[0m\u001b[1;33m\u001b[0m\u001b[1;33m\u001b[0m\u001b[0m\n\u001b[0;32m    235\u001b[0m                 \u001b[0mself\u001b[0m\u001b[1;33m.\u001b[0m\u001b[0m_validate_key\u001b[0m\u001b[1;33m(\u001b[0m\u001b[0mk\u001b[0m\u001b[1;33m,\u001b[0m \u001b[0mi\u001b[0m\u001b[1;33m)\u001b[0m\u001b[1;33m\u001b[0m\u001b[1;33m\u001b[0m\u001b[0m\n",
      "\u001b[1;31mIndexingError\u001b[0m: Too many indexers"
     ]
    }
   ],
   "source": [
    "# def calc_percentage_change():\n",
    "    \n",
    "df['Change_percent'] = np.concatenate((np.array([np.nan]), \n",
    "                                ((df['Close'].diff().iloc[1:, :].values)/(df['Close'].iloc[:-1, :].values)).reshape(-1)))*100\n",
    "df"
   ]
  },
  {
   "cell_type": "code",
   "execution_count": 48,
   "metadata": {},
   "outputs": [
    {
     "data": {
      "text/html": [
       "<div>\n",
       "<style scoped>\n",
       "    .dataframe tbody tr th:only-of-type {\n",
       "        vertical-align: middle;\n",
       "    }\n",
       "\n",
       "    .dataframe tbody tr th {\n",
       "        vertical-align: top;\n",
       "    }\n",
       "\n",
       "    .dataframe thead th {\n",
       "        text-align: right;\n",
       "    }\n",
       "</style>\n",
       "<table border=\"1\" class=\"dataframe\">\n",
       "  <thead>\n",
       "    <tr style=\"text-align: right;\">\n",
       "      <th></th>\n",
       "      <th>Date</th>\n",
       "      <th>Open</th>\n",
       "      <th>High</th>\n",
       "      <th>Low</th>\n",
       "      <th>Close</th>\n",
       "      <th>Adj Close</th>\n",
       "      <th>Volume</th>\n",
       "      <th>Change</th>\n",
       "      <th>SMA_20</th>\n",
       "      <th>EMA_20</th>\n",
       "      <th>SMA_30</th>\n",
       "      <th>EMA_30</th>\n",
       "      <th>SMA_45</th>\n",
       "      <th>EMA_45</th>\n",
       "    </tr>\n",
       "  </thead>\n",
       "  <tbody>\n",
       "    <tr>\n",
       "      <td>93</td>\n",
       "      <td>2021-02-12</td>\n",
       "      <td>33.360001</td>\n",
       "      <td>33.650002</td>\n",
       "      <td>31.340000</td>\n",
       "      <td>31.91</td>\n",
       "      <td>31.91</td>\n",
       "      <td>60359100</td>\n",
       "      <td>-1.450001</td>\n",
       "      <td>32.8190</td>\n",
       "      <td>32.536118</td>\n",
       "      <td>30.139000</td>\n",
       "      <td>31.154735</td>\n",
       "      <td>29.026889</td>\n",
       "      <td>29.383877</td>\n",
       "    </tr>\n",
       "    <tr>\n",
       "      <td>94</td>\n",
       "      <td>2021-02-16</td>\n",
       "      <td>30.020000</td>\n",
       "      <td>30.440001</td>\n",
       "      <td>27.299999</td>\n",
       "      <td>27.84</td>\n",
       "      <td>27.84</td>\n",
       "      <td>178983600</td>\n",
       "      <td>-2.180000</td>\n",
       "      <td>32.9290</td>\n",
       "      <td>32.088836</td>\n",
       "      <td>30.282000</td>\n",
       "      <td>30.940502</td>\n",
       "      <td>29.053778</td>\n",
       "      <td>29.315754</td>\n",
       "    </tr>\n",
       "    <tr>\n",
       "      <td>95</td>\n",
       "      <td>2021-02-17</td>\n",
       "      <td>27.990000</td>\n",
       "      <td>29.730000</td>\n",
       "      <td>27.000000</td>\n",
       "      <td>27.08</td>\n",
       "      <td>27.08</td>\n",
       "      <td>149036300</td>\n",
       "      <td>-0.910000</td>\n",
       "      <td>32.9520</td>\n",
       "      <td>31.611772</td>\n",
       "      <td>30.405667</td>\n",
       "      <td>30.691024</td>\n",
       "      <td>29.054667</td>\n",
       "      <td>29.217165</td>\n",
       "    </tr>\n",
       "    <tr>\n",
       "      <td>96</td>\n",
       "      <td>2021-02-18</td>\n",
       "      <td>24.990000</td>\n",
       "      <td>26.309999</td>\n",
       "      <td>24.500000</td>\n",
       "      <td>25.17</td>\n",
       "      <td>25.17</td>\n",
       "      <td>307870700</td>\n",
       "      <td>0.180000</td>\n",
       "      <td>32.8935</td>\n",
       "      <td>30.998232</td>\n",
       "      <td>30.424667</td>\n",
       "      <td>30.334275</td>\n",
       "      <td>29.009556</td>\n",
       "      <td>29.038810</td>\n",
       "    </tr>\n",
       "    <tr>\n",
       "      <td>97</td>\n",
       "      <td>2021-02-19</td>\n",
       "      <td>27.020000</td>\n",
       "      <td>29.959999</td>\n",
       "      <td>26.900000</td>\n",
       "      <td>29.00</td>\n",
       "      <td>29.00</td>\n",
       "      <td>318009800</td>\n",
       "      <td>1.980000</td>\n",
       "      <td>33.0445</td>\n",
       "      <td>30.807914</td>\n",
       "      <td>30.606667</td>\n",
       "      <td>30.248068</td>\n",
       "      <td>29.048667</td>\n",
       "      <td>29.037100</td>\n",
       "    </tr>\n",
       "  </tbody>\n",
       "</table>\n",
       "</div>"
      ],
      "text/plain": [
       "          Date       Open       High        Low  Close  Adj Close     Volume  \\\n",
       "93  2021-02-12  33.360001  33.650002  31.340000  31.91      31.91   60359100   \n",
       "94  2021-02-16  30.020000  30.440001  27.299999  27.84      27.84  178983600   \n",
       "95  2021-02-17  27.990000  29.730000  27.000000  27.08      27.08  149036300   \n",
       "96  2021-02-18  24.990000  26.309999  24.500000  25.17      25.17  307870700   \n",
       "97  2021-02-19  27.020000  29.959999  26.900000  29.00      29.00  318009800   \n",
       "\n",
       "      Change   SMA_20     EMA_20     SMA_30     EMA_30     SMA_45     EMA_45  \n",
       "93 -1.450001  32.8190  32.536118  30.139000  31.154735  29.026889  29.383877  \n",
       "94 -2.180000  32.9290  32.088836  30.282000  30.940502  29.053778  29.315754  \n",
       "95 -0.910000  32.9520  31.611772  30.405667  30.691024  29.054667  29.217165  \n",
       "96  0.180000  32.8935  30.998232  30.424667  30.334275  29.009556  29.038810  \n",
       "97  1.980000  33.0445  30.807914  30.606667  30.248068  29.048667  29.037100  "
      ]
     },
     "execution_count": 48,
     "metadata": {},
     "output_type": "execute_result"
    }
   ],
   "source": [
    "df = pd.read_csv('pltr.csv')\n",
    "\n",
    "def add_features(df, days_to_calc_moving_avg = [20, 30, 45]):\n",
    "    def calc_simple_moving_avg(df, day):\n",
    "        return df[['Close']].rolling(day).mean().values\n",
    "\n",
    "    def calc_exponential_moving_avg(df, day):\n",
    "        c = 2 / (day+1)\n",
    "        return df[['Close']].ewm(span=day).mean().values\n",
    "\n",
    "    df['Change'] = df['Adj Close'] - df['Open']\n",
    "    if days_to_calc_moving_avg:\n",
    "        for d in days_to_calc_moving_avg:\n",
    "            df['SMA_' + str(d)] = calc_simple_moving_avg(df, d)\n",
    "            df['EMA_' + str(d)] = calc_exponential_moving_avg(df, d)\n",
    "\n",
    "    return df\n",
    "\n",
    "add_features(df).tail()"
   ]
  },
  {
   "cell_type": "code",
   "execution_count": 49,
   "metadata": {},
   "outputs": [
    {
     "data": {
      "text/plain": [
       "<matplotlib.axes._subplots.AxesSubplot at 0x25173d23908>"
      ]
     },
     "execution_count": 49,
     "metadata": {},
     "output_type": "execute_result"
    },
    {
     "data": {
      "image/png": "[encoded data removed]",
      "text/plain": [
       "<Figure size 432x288 with 1 Axes>"
      ]
     },
     "metadata": {
      "needs_background": "light"
     },
     "output_type": "display_data"
    }
   ],
   "source": [
    "def normalize_data(df, cols=['Open', 'High', 'Low', 'Close', 'Adj Close'], skip_days=5):\n",
    "    df = df.iloc[skip_days:, 1:]\n",
    "    max_price = df[cols].values.max()\n",
    "    df[cols] = df[cols] / max_price\n",
    "    max_val = df['Volume'].values.max()\n",
    "    df['Volume'] = df['Volume']/max_val\n",
    "    return df\n",
    "\n",
    "normalized_data = normalize_data(df)\n",
    "normalized_data\n",
    "normalized_data.iloc[:, :4].plot()"
   ]
  },
  {
   "cell_type": "code",
   "execution_count": null,
   "metadata": {},
   "outputs": [],
   "source": [
    "20:30.81 \n",
    "30:30.21 \n",
    "45:28.60"
   ]
  }
 ],
 "metadata": {
  "kernelspec": {
   "display_name": "Python 3",
   "language": "python",
   "name": "python3"
  },
  "language_info": {
   "codemirror_mode": {
    "name": "ipython",
    "version": 3
   },
   "file_extension": ".py",
   "mimetype": "text/x-python",
   "name": "python",
   "nbconvert_exporter": "python",
   "pygments_lexer": "ipython3",
   "version": "3.7.4"
  }
 },
 "nbformat": 4,
 "nbformat_minor": 4
}
